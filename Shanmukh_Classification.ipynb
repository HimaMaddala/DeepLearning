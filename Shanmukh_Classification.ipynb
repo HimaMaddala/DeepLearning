{
 "cells": [
  {
   "cell_type": "markdown",
   "metadata": {
    "colab_type": "text",
    "id": "view-in-github"
   },
   "source": [
    "<a href=\"https://colab.research.google.com/github/ShanmukhVegi/Image-Classification/blob/main/Shanmukh_Classification.ipynb\" target=\"_parent\"><img src=\"https://colab.research.google.com/assets/colab-badge.svg\" alt=\"Open In Colab\"/></a>"
   ]
  },
  {
   "cell_type": "markdown",
   "metadata": {
    "id": "uBajLXYrWBlo"
   },
   "source": [
    "Importing all the required packages"
   ]
  },
  {
   "cell_type": "code",
   "execution_count": 1,
   "metadata": {
    "id": "VgPd1fjcOKlg"
   },
   "outputs": [],
   "source": [
    "\n",
    "import pandas as pd\n",
    "from sklearn import svm\n",
    "from sklearn.model_selection import GridSearchCV\n",
    "import os\n",
    "import matplotlib.pyplot as plt\n",
    "from skimage.transform import resize\n",
    "from skimage.io import imread\n",
    "import numpy as np\n",
    "from sklearn.model_selection import train_test_split\n",
    "from sklearn.metrics import classification_report,accuracy_score,confusion_matrix\n",
    "import pickle\n",
    "\n"
   ]
  },
  {
   "cell_type": "markdown",
   "metadata": {
    "id": "i8zhtW8yz34D"
   },
   "source": [
    "**NOTE** : Please enter Category Names same as folder name"
   ]
  },
  {
   "cell_type": "code",
   "execution_count": 2,
   "metadata": {
    "colab": {
     "base_uri": "https://localhost:8080/"
    },
    "id": "umZtNj4CTllG",
    "outputId": "6bd8a057-f089-41e9-e55e-ef7d8fe47639"
   },
   "outputs": [
    {
     "name": "stdout",
     "output_type": "stream",
     "text": [
      "Type y to give categories or type n to go with classification of Cars,Ice Cream cone and Cricket ball\n",
      "n\n"
     ]
    }
   ],
   "source": [
    "Categories=['Cars','Ice cream cone','Cricket ball','House']\n",
    "print(\"Type y to give categories or type n to go with classification of Cars,Ice Cream cone and Cricket ball\");\n",
    "\n",
    "while(True):\n",
    "  check=input()\n",
    "  if(check=='n' or check=='y'):\n",
    "    break\n",
    "  print(\"Please give a valid input (y/n)\")\n",
    "if(check=='y'):\n",
    "  print(\"Enter How Many types of Images do you want to classify\")\n",
    "  n=int(input())\n",
    "  Categories=[]\n",
    "  print(f'please enter {n} names')\n",
    "  for i in range(n):\n",
    "    name=input()\n",
    "    Categories.append(name)\n",
    "  print(f\"If not drive Please upload all the {n} category images in google collab with the same names as given in categories\")\n",
    "\n"
   ]
  },
  {
   "cell_type": "markdown",
   "metadata": {
    "id": "0wwiPscqYune"
   },
   "source": [
    "Loading all the images and creating a DataFrame\n",
    "\n",
    "If you have your images in your google drive, simply mount the google Drive and copy the path of the folder containing all the Category images and Change the datadir variable to that path"
   ]
  },
  {
   "cell_type": "code",
   "execution_count": 3,
   "metadata": {
    "colab": {
     "base_uri": "https://localhost:8080/",
     "height": 531
    },
    "id": "XdGD-XpMYUjJ",
    "outputId": "d88292e8-0fd2-4c41-a485-c98045228f62"
   },
   "outputs": [
    {
     "name": "stdout",
     "output_type": "stream",
     "text": [
      "loading... category : Cars\n",
      "loaded category:Cars successfully\n",
      "loading... category : Ice cream cone\n",
      "loaded category:Ice cream cone successfully\n",
      "loading... category : Cricket ball\n",
      "loaded category:Cricket ball successfully\n",
      "loading... category : House\n",
      "loaded category:House successfully\n"
     ]
    },
    {
     "data": {
      "text/html": [
       "<div>\n",
       "<style scoped>\n",
       "    .dataframe tbody tr th:only-of-type {\n",
       "        vertical-align: middle;\n",
       "    }\n",
       "\n",
       "    .dataframe tbody tr th {\n",
       "        vertical-align: top;\n",
       "    }\n",
       "\n",
       "    .dataframe thead th {\n",
       "        text-align: right;\n",
       "    }\n",
       "</style>\n",
       "<table border=\"1\" class=\"dataframe\">\n",
       "  <thead>\n",
       "    <tr style=\"text-align: right;\">\n",
       "      <th></th>\n",
       "      <th>0</th>\n",
       "      <th>1</th>\n",
       "      <th>2</th>\n",
       "      <th>3</th>\n",
       "      <th>4</th>\n",
       "      <th>5</th>\n",
       "      <th>6</th>\n",
       "      <th>7</th>\n",
       "      <th>8</th>\n",
       "      <th>9</th>\n",
       "      <th>...</th>\n",
       "      <th>67491</th>\n",
       "      <th>67492</th>\n",
       "      <th>67493</th>\n",
       "      <th>67494</th>\n",
       "      <th>67495</th>\n",
       "      <th>67496</th>\n",
       "      <th>67497</th>\n",
       "      <th>67498</th>\n",
       "      <th>67499</th>\n",
       "      <th>Target</th>\n",
       "    </tr>\n",
       "  </thead>\n",
       "  <tbody>\n",
       "    <tr>\n",
       "      <th>0</th>\n",
       "      <td>1.000000</td>\n",
       "      <td>1.000000</td>\n",
       "      <td>1.000000</td>\n",
       "      <td>1.000000</td>\n",
       "      <td>1.000000</td>\n",
       "      <td>1.000000</td>\n",
       "      <td>1.000000</td>\n",
       "      <td>1.000000</td>\n",
       "      <td>1.000000</td>\n",
       "      <td>1.000000</td>\n",
       "      <td>...</td>\n",
       "      <td>1.000000</td>\n",
       "      <td>1.000000</td>\n",
       "      <td>1.000000</td>\n",
       "      <td>1.000000</td>\n",
       "      <td>1.000000</td>\n",
       "      <td>1.000000</td>\n",
       "      <td>1.000000</td>\n",
       "      <td>1.000000</td>\n",
       "      <td>1.000000</td>\n",
       "      <td>0</td>\n",
       "    </tr>\n",
       "    <tr>\n",
       "      <th>1</th>\n",
       "      <td>0.718931</td>\n",
       "      <td>0.718931</td>\n",
       "      <td>0.718931</td>\n",
       "      <td>0.723172</td>\n",
       "      <td>0.723172</td>\n",
       "      <td>0.723172</td>\n",
       "      <td>0.726831</td>\n",
       "      <td>0.726831</td>\n",
       "      <td>0.726831</td>\n",
       "      <td>0.729648</td>\n",
       "      <td>...</td>\n",
       "      <td>0.343630</td>\n",
       "      <td>0.324487</td>\n",
       "      <td>0.312722</td>\n",
       "      <td>0.340675</td>\n",
       "      <td>0.321446</td>\n",
       "      <td>0.309681</td>\n",
       "      <td>0.338502</td>\n",
       "      <td>0.319273</td>\n",
       "      <td>0.307508</td>\n",
       "      <td>0</td>\n",
       "    </tr>\n",
       "    <tr>\n",
       "      <th>2</th>\n",
       "      <td>0.187870</td>\n",
       "      <td>0.175087</td>\n",
       "      <td>0.166392</td>\n",
       "      <td>0.267480</td>\n",
       "      <td>0.241407</td>\n",
       "      <td>0.178614</td>\n",
       "      <td>0.291785</td>\n",
       "      <td>0.246191</td>\n",
       "      <td>0.177539</td>\n",
       "      <td>0.292813</td>\n",
       "      <td>...</td>\n",
       "      <td>0.596285</td>\n",
       "      <td>0.600187</td>\n",
       "      <td>0.608044</td>\n",
       "      <td>0.605469</td>\n",
       "      <td>0.609391</td>\n",
       "      <td>0.620086</td>\n",
       "      <td>0.587750</td>\n",
       "      <td>0.591672</td>\n",
       "      <td>0.610687</td>\n",
       "      <td>0</td>\n",
       "    </tr>\n",
       "    <tr>\n",
       "      <th>3</th>\n",
       "      <td>0.763509</td>\n",
       "      <td>0.694619</td>\n",
       "      <td>0.616188</td>\n",
       "      <td>0.758216</td>\n",
       "      <td>0.691426</td>\n",
       "      <td>0.612994</td>\n",
       "      <td>0.759536</td>\n",
       "      <td>0.692393</td>\n",
       "      <td>0.613961</td>\n",
       "      <td>0.752903</td>\n",
       "      <td>...</td>\n",
       "      <td>0.430641</td>\n",
       "      <td>0.465518</td>\n",
       "      <td>0.454430</td>\n",
       "      <td>0.432574</td>\n",
       "      <td>0.468497</td>\n",
       "      <td>0.464130</td>\n",
       "      <td>0.432538</td>\n",
       "      <td>0.471443</td>\n",
       "      <td>0.474683</td>\n",
       "      <td>0</td>\n",
       "    </tr>\n",
       "    <tr>\n",
       "      <th>4</th>\n",
       "      <td>0.264764</td>\n",
       "      <td>0.269562</td>\n",
       "      <td>0.281013</td>\n",
       "      <td>0.283545</td>\n",
       "      <td>0.274633</td>\n",
       "      <td>0.279183</td>\n",
       "      <td>0.117344</td>\n",
       "      <td>0.106521</td>\n",
       "      <td>0.102887</td>\n",
       "      <td>0.067332</td>\n",
       "      <td>...</td>\n",
       "      <td>0.540330</td>\n",
       "      <td>0.515482</td>\n",
       "      <td>0.508428</td>\n",
       "      <td>0.555654</td>\n",
       "      <td>0.537145</td>\n",
       "      <td>0.526144</td>\n",
       "      <td>0.537862</td>\n",
       "      <td>0.519078</td>\n",
       "      <td>0.511778</td>\n",
       "      <td>0</td>\n",
       "    </tr>\n",
       "    <tr>\n",
       "      <th>...</th>\n",
       "      <td>...</td>\n",
       "      <td>...</td>\n",
       "      <td>...</td>\n",
       "      <td>...</td>\n",
       "      <td>...</td>\n",
       "      <td>...</td>\n",
       "      <td>...</td>\n",
       "      <td>...</td>\n",
       "      <td>...</td>\n",
       "      <td>...</td>\n",
       "      <td>...</td>\n",
       "      <td>...</td>\n",
       "      <td>...</td>\n",
       "      <td>...</td>\n",
       "      <td>...</td>\n",
       "      <td>...</td>\n",
       "      <td>...</td>\n",
       "      <td>...</td>\n",
       "      <td>...</td>\n",
       "      <td>...</td>\n",
       "      <td>...</td>\n",
       "    </tr>\n",
       "    <tr>\n",
       "      <th>109</th>\n",
       "      <td>0.691438</td>\n",
       "      <td>0.615183</td>\n",
       "      <td>0.638577</td>\n",
       "      <td>0.691514</td>\n",
       "      <td>0.616125</td>\n",
       "      <td>0.642515</td>\n",
       "      <td>0.699988</td>\n",
       "      <td>0.619288</td>\n",
       "      <td>0.641205</td>\n",
       "      <td>0.728900</td>\n",
       "      <td>...</td>\n",
       "      <td>0.345910</td>\n",
       "      <td>0.362134</td>\n",
       "      <td>0.388483</td>\n",
       "      <td>0.323754</td>\n",
       "      <td>0.351293</td>\n",
       "      <td>0.385375</td>\n",
       "      <td>0.304213</td>\n",
       "      <td>0.363397</td>\n",
       "      <td>0.416383</td>\n",
       "      <td>3</td>\n",
       "    </tr>\n",
       "    <tr>\n",
       "      <th>110</th>\n",
       "      <td>0.434921</td>\n",
       "      <td>0.430264</td>\n",
       "      <td>0.613515</td>\n",
       "      <td>0.435100</td>\n",
       "      <td>0.431484</td>\n",
       "      <td>0.614380</td>\n",
       "      <td>0.437916</td>\n",
       "      <td>0.431007</td>\n",
       "      <td>0.614978</td>\n",
       "      <td>0.435375</td>\n",
       "      <td>...</td>\n",
       "      <td>0.700547</td>\n",
       "      <td>0.712723</td>\n",
       "      <td>0.797267</td>\n",
       "      <td>0.670559</td>\n",
       "      <td>0.685094</td>\n",
       "      <td>0.778168</td>\n",
       "      <td>0.651239</td>\n",
       "      <td>0.668113</td>\n",
       "      <td>0.769162</td>\n",
       "      <td>3</td>\n",
       "    </tr>\n",
       "    <tr>\n",
       "      <th>111</th>\n",
       "      <td>0.531260</td>\n",
       "      <td>0.588361</td>\n",
       "      <td>0.757850</td>\n",
       "      <td>0.525996</td>\n",
       "      <td>0.584006</td>\n",
       "      <td>0.753040</td>\n",
       "      <td>0.525452</td>\n",
       "      <td>0.579953</td>\n",
       "      <td>0.750742</td>\n",
       "      <td>0.521421</td>\n",
       "      <td>...</td>\n",
       "      <td>0.351165</td>\n",
       "      <td>0.361631</td>\n",
       "      <td>0.181863</td>\n",
       "      <td>0.343204</td>\n",
       "      <td>0.352942</td>\n",
       "      <td>0.181911</td>\n",
       "      <td>0.369510</td>\n",
       "      <td>0.375299</td>\n",
       "      <td>0.184158</td>\n",
       "      <td>3</td>\n",
       "    </tr>\n",
       "    <tr>\n",
       "      <th>112</th>\n",
       "      <td>0.116322</td>\n",
       "      <td>0.175225</td>\n",
       "      <td>0.328140</td>\n",
       "      <td>0.120392</td>\n",
       "      <td>0.181208</td>\n",
       "      <td>0.333485</td>\n",
       "      <td>0.116923</td>\n",
       "      <td>0.186899</td>\n",
       "      <td>0.336128</td>\n",
       "      <td>0.119905</td>\n",
       "      <td>...</td>\n",
       "      <td>0.035289</td>\n",
       "      <td>0.047054</td>\n",
       "      <td>0.066661</td>\n",
       "      <td>0.034648</td>\n",
       "      <td>0.046413</td>\n",
       "      <td>0.066021</td>\n",
       "      <td>0.031700</td>\n",
       "      <td>0.043464</td>\n",
       "      <td>0.063072</td>\n",
       "      <td>3</td>\n",
       "    </tr>\n",
       "    <tr>\n",
       "      <th>113</th>\n",
       "      <td>0.058748</td>\n",
       "      <td>0.197217</td>\n",
       "      <td>0.408375</td>\n",
       "      <td>0.062796</td>\n",
       "      <td>0.202350</td>\n",
       "      <td>0.412965</td>\n",
       "      <td>0.064559</td>\n",
       "      <td>0.209309</td>\n",
       "      <td>0.417324</td>\n",
       "      <td>0.065565</td>\n",
       "      <td>...</td>\n",
       "      <td>0.411946</td>\n",
       "      <td>0.447235</td>\n",
       "      <td>0.189379</td>\n",
       "      <td>0.377612</td>\n",
       "      <td>0.412906</td>\n",
       "      <td>0.157597</td>\n",
       "      <td>0.379240</td>\n",
       "      <td>0.414534</td>\n",
       "      <td>0.159632</td>\n",
       "      <td>3</td>\n",
       "    </tr>\n",
       "  </tbody>\n",
       "</table>\n",
       "<p>114 rows × 67501 columns</p>\n",
       "</div>"
      ],
      "text/plain": [
       "            0         1         2         3         4         5         6  \\\n",
       "0    1.000000  1.000000  1.000000  1.000000  1.000000  1.000000  1.000000   \n",
       "1    0.718931  0.718931  0.718931  0.723172  0.723172  0.723172  0.726831   \n",
       "2    0.187870  0.175087  0.166392  0.267480  0.241407  0.178614  0.291785   \n",
       "3    0.763509  0.694619  0.616188  0.758216  0.691426  0.612994  0.759536   \n",
       "4    0.264764  0.269562  0.281013  0.283545  0.274633  0.279183  0.117344   \n",
       "..        ...       ...       ...       ...       ...       ...       ...   \n",
       "109  0.691438  0.615183  0.638577  0.691514  0.616125  0.642515  0.699988   \n",
       "110  0.434921  0.430264  0.613515  0.435100  0.431484  0.614380  0.437916   \n",
       "111  0.531260  0.588361  0.757850  0.525996  0.584006  0.753040  0.525452   \n",
       "112  0.116322  0.175225  0.328140  0.120392  0.181208  0.333485  0.116923   \n",
       "113  0.058748  0.197217  0.408375  0.062796  0.202350  0.412965  0.064559   \n",
       "\n",
       "            7         8         9  ...     67491     67492     67493  \\\n",
       "0    1.000000  1.000000  1.000000  ...  1.000000  1.000000  1.000000   \n",
       "1    0.726831  0.726831  0.729648  ...  0.343630  0.324487  0.312722   \n",
       "2    0.246191  0.177539  0.292813  ...  0.596285  0.600187  0.608044   \n",
       "3    0.692393  0.613961  0.752903  ...  0.430641  0.465518  0.454430   \n",
       "4    0.106521  0.102887  0.067332  ...  0.540330  0.515482  0.508428   \n",
       "..        ...       ...       ...  ...       ...       ...       ...   \n",
       "109  0.619288  0.641205  0.728900  ...  0.345910  0.362134  0.388483   \n",
       "110  0.431007  0.614978  0.435375  ...  0.700547  0.712723  0.797267   \n",
       "111  0.579953  0.750742  0.521421  ...  0.351165  0.361631  0.181863   \n",
       "112  0.186899  0.336128  0.119905  ...  0.035289  0.047054  0.066661   \n",
       "113  0.209309  0.417324  0.065565  ...  0.411946  0.447235  0.189379   \n",
       "\n",
       "        67494     67495     67496     67497     67498     67499  Target  \n",
       "0    1.000000  1.000000  1.000000  1.000000  1.000000  1.000000       0  \n",
       "1    0.340675  0.321446  0.309681  0.338502  0.319273  0.307508       0  \n",
       "2    0.605469  0.609391  0.620086  0.587750  0.591672  0.610687       0  \n",
       "3    0.432574  0.468497  0.464130  0.432538  0.471443  0.474683       0  \n",
       "4    0.555654  0.537145  0.526144  0.537862  0.519078  0.511778       0  \n",
       "..        ...       ...       ...       ...       ...       ...     ...  \n",
       "109  0.323754  0.351293  0.385375  0.304213  0.363397  0.416383       3  \n",
       "110  0.670559  0.685094  0.778168  0.651239  0.668113  0.769162       3  \n",
       "111  0.343204  0.352942  0.181911  0.369510  0.375299  0.184158       3  \n",
       "112  0.034648  0.046413  0.066021  0.031700  0.043464  0.063072       3  \n",
       "113  0.377612  0.412906  0.157597  0.379240  0.414534  0.159632       3  \n",
       "\n",
       "[114 rows x 67501 columns]"
      ]
     },
     "execution_count": 3,
     "metadata": {},
     "output_type": "execute_result"
    }
   ],
   "source": [
    "flat_data_arr=[]\n",
    "target_arr=[]\n",
    "#please use datadir='/content' if the files are upload on to google collab\n",
    "#else mount the drive and give path of the parent-folder containing all category images folders.\n",
    "datadir=\"C:/Users/Admin/Desktop/svm image classification/dataset\"\n",
    "for i in Categories:\n",
    "  print(f'loading... category : {i}')\n",
    "  path=os.path.join(datadir,i)\n",
    "  for img in os.listdir(path):\n",
    "    img_array=imread(os.path.join(path,img))\n",
    "    img_resized=resize(img_array,(150,150,3))\n",
    "    flat_data_arr.append(img_resized.flatten())\n",
    "    target_arr.append(Categories.index(i))\n",
    "  print(f'loaded category:{i} successfully')\n",
    "flat_data=np.array(flat_data_arr)\n",
    "target=np.array(target_arr)\n",
    "df=pd.DataFrame(flat_data)\n",
    "df['Target']=target\n",
    "df"
   ]
  },
  {
   "cell_type": "markdown",
   "metadata": {
    "id": "gUp5FDqIY070"
   },
   "source": [
    "Splitting the data into training and testing data"
   ]
  },
  {
   "cell_type": "code",
   "execution_count": 4,
   "metadata": {
    "colab": {
     "base_uri": "https://localhost:8080/"
    },
    "id": "Jg3XHRP3OUyf",
    "outputId": "f9f0a456-8a4c-45e6-9b01-509d753139f2"
   },
   "outputs": [
    {
     "name": "stdout",
     "output_type": "stream",
     "text": [
      "Splitted Successfully\n"
     ]
    }
   ],
   "source": [
    "x=df.iloc[:,:-1]\n",
    "y=df.iloc[:,-1]\n",
    "x_train,x_test,y_train,y_test=train_test_split(x,y,test_size=0.20,random_state=77,stratify=y)\n",
    "print('Splitted Successfully')"
   ]
  },
  {
   "cell_type": "markdown",
   "metadata": {
    "id": "YMmSZWDJY_eE"
   },
   "source": [
    "This Part of code may take a while for training the data using SVC model"
   ]
  },
  {
   "cell_type": "code",
   "execution_count": 5,
   "metadata": {
    "colab": {
     "base_uri": "https://localhost:8080/"
    },
    "id": "DIaIT2GlOvy6",
    "outputId": "47a22b93-17d2-4f2a-fb1f-a0e355551852"
   },
   "outputs": [
    {
     "name": "stdout",
     "output_type": "stream",
     "text": [
      "The training of the model is started, please wait for while as it may take few minutes to complete\n",
      "The Model is trained well with the given images\n"
     ]
    },
    {
     "data": {
      "text/plain": [
       "{'C': 10, 'gamma': 0.0001, 'kernel': 'rbf'}"
      ]
     },
     "execution_count": 5,
     "metadata": {},
     "output_type": "execute_result"
    }
   ],
   "source": [
    "param_grid={'C':[0.1,1,10,100],'gamma':[0.0001,0.001,0.1,1],'kernel':['rbf','poly']}\n",
    "svc=svm.SVC(probability=True)\n",
    "print(\"The training of the model is started, please wait for while as it may take few minutes to complete\")\n",
    "model=GridSearchCV(svc,param_grid)\n",
    "model.fit(x_train,y_train)\n",
    "print('The Model is trained well with the given images')\n",
    "model.best_params_"
   ]
  },
  {
   "cell_type": "markdown",
   "metadata": {
    "id": "VWKN2_4eZZmF"
   },
   "source": [
    "Predicting our testing data"
   ]
  },
  {
   "cell_type": "code",
   "execution_count": 6,
   "metadata": {
    "colab": {
     "base_uri": "https://localhost:8080/"
    },
    "id": "h7qEbNLoSAcS",
    "outputId": "3c93b66c-9202-42ee-ae30-5cadea7f00ef"
   },
   "outputs": [
    {
     "name": "stdout",
     "output_type": "stream",
     "text": [
      "The predicted Data is :\n"
     ]
    },
    {
     "data": {
      "text/plain": [
       "array([0, 1, 0, 0, 0, 1, 1, 0, 2, 0, 0, 2, 2, 2, 2, 2, 0, 0, 1, 2, 1, 2,\n",
       "       2])"
      ]
     },
     "execution_count": 6,
     "metadata": {},
     "output_type": "execute_result"
    }
   ],
   "source": [
    "y_pred=model.predict(x_test)\n",
    "print(\"The predicted Data is :\")\n",
    "y_pred"
   ]
  },
  {
   "cell_type": "code",
   "execution_count": 7,
   "metadata": {
    "colab": {
     "base_uri": "https://localhost:8080/"
    },
    "id": "A4rMJQ0HSCgU",
    "outputId": "c5a922e2-4c75-4f95-96e3-bf9d6c9a7089"
   },
   "outputs": [
    {
     "name": "stdout",
     "output_type": "stream",
     "text": [
      "The actual data is:\n"
     ]
    },
    {
     "data": {
      "text/plain": [
       "array([0, 1, 3, 0, 0, 1, 1, 0, 2, 0, 3, 2, 0, 2, 2, 0, 3, 0, 1, 2, 1, 2,\n",
       "       1])"
      ]
     },
     "execution_count": 7,
     "metadata": {},
     "output_type": "execute_result"
    }
   ],
   "source": [
    "print(\"The actual data is:\")\n",
    "np.array(y_test)"
   ]
  },
  {
   "cell_type": "code",
   "execution_count": 8,
   "metadata": {
    "colab": {
     "base_uri": "https://localhost:8080/"
    },
    "id": "ZwXKKc5FSFMf",
    "outputId": "d6c6e632-2585-4405-87b6-4b2321e41298"
   },
   "outputs": [
    {
     "name": "stdout",
     "output_type": "stream",
     "text": [
      "The model is 73.91304347826086% accurate\n"
     ]
    }
   ],
   "source": [
    "#classification_report(y_pred,y_test)\n",
    "print(f\"The model is {accuracy_score(y_pred,y_test)*100}% accurate\")\n",
    "#confusion_matrix(y_pred,y_test)"
   ]
  },
  {
   "cell_type": "markdown",
   "metadata": {
    "id": "B8rpwj-yX4hl"
   },
   "source": [
    "Using Pickle to save the model to disk"
   ]
  },
  {
   "cell_type": "code",
   "execution_count": 9,
   "metadata": {
    "colab": {
     "base_uri": "https://localhost:8080/"
    },
    "id": "Jf8xp5BYp_7E",
    "outputId": "bb161fc8-afc1-4f80-87a6-c4859708c0fc"
   },
   "outputs": [
    {
     "name": "stdout",
     "output_type": "stream",
     "text": [
      "Pickle is dumped successfully\n"
     ]
    }
   ],
   "source": [
    "pickle.dump(model,open('img_model.p','wb'))\n",
    "print(\"Pickle is dumped successfully\")"
   ]
  },
  {
   "cell_type": "markdown",
   "metadata": {
    "id": "D5j6KOPCZ8av"
   },
   "source": [
    "The Machine-Learning Based Model is Created Successfully. Now You can test for classification of any image which falls in the mentioned Categories\n",
    "\n",
    "Testing of model :"
   ]
  },
  {
   "cell_type": "code",
   "execution_count": 13,
   "metadata": {
    "colab": {
     "base_uri": "https://localhost:8080/",
     "height": 427
    },
    "id": "6MVmsPLdS6-X",
    "outputId": "56a836cf-2eca-4111-d585-34697dd71db5"
   },
   "outputs": [
    {
     "name": "stdout",
     "output_type": "stream",
     "text": [
      "Enter URL of Imagehttps://i.pinimg.com/originals/4c/c8/17/4cc817a3a0c976c4a4abfea94793487a.jpg\n"
     ]
    },
    {
     "data": {
      "image/png": "[encoded data removed]",
      "text/plain": [
       "<Figure size 432x288 with 1 Axes>"
      ]
     },
     "metadata": {
      "needs_background": "light"
     },
     "output_type": "display_data"
    },
    {
     "name": "stdout",
     "output_type": "stream",
     "text": [
      "Cars = 1.0165129118600447%\n",
      "Ice cream cone = 1.6613216366219465%\n",
      "Cricket ball = 0.8331598210831759%\n",
      "House = 96.48900563043485%\n",
      "The predicted image is : House\n",
      "Is the image a House ?(y/n)\n",
      "y\n",
      "Thank you for your feedback\n"
     ]
    }
   ],
   "source": [
    "#print(os.path.abspath(os.getcwd()))\n",
    "model=pickle.load(open('img_model.p','rb'))\n",
    "\n",
    "url=input('Enter URL of Image')\n",
    "img=imread(url)\n",
    "plt.imshow(img)\n",
    "plt.show()\n",
    "img_resize=resize(img,(150,150,3))\n",
    "l=[img_resize.flatten()]\n",
    "probability=model.predict_proba(l)\n",
    "for ind,val in enumerate(Categories):\n",
    "  print(f'{val} = {probability[0][ind]*100}%')\n",
    "print(\"The predicted image is : \"+Categories[model.predict(l)[0]])\n",
    "print(f'Is the image a {Categories[model.predict(l)[0]]} ?(y/n)')\n",
    "while(True):\n",
    "  b=input()\n",
    "  if(b==\"y\" or b==\"n\"):\n",
    "    break\n",
    "  print(\"please enter either y or n\")\n",
    "\n",
    "if(b=='n'):\n",
    "  print(\"What is the image?\")\n",
    "  for i in range(len(Categories)):\n",
    "    print(f\"Enter {i} for {Categories[i]}\")\n",
    "  k=int(input())\n",
    "  while(k<0 or k>=len(Categories)):\n",
    "    print(f\"Please enter a valid number between 0-{len(Categories)-1}\")\n",
    "    k=int(input())\n",
    "  print(\"Please wait for a while for the model to learn from this image :)\")\n",
    "  flat_arr=flat_data_arr.copy()\n",
    "  tar_arr=target_arr.copy()\n",
    "  tar_arr.append(k)\n",
    "  flat_arr.extend(l)\n",
    "  tar_arr=np.array(tar_arr)\n",
    "  flat_df=np.array(flat_arr)\n",
    "  df1=pd.DataFrame(flat_df)\n",
    "  df1['Target']=tar_arr\n",
    "  model1=GridSearchCV(svc,param_grid)\n",
    "  x1=df1.iloc[:,:-1]\n",
    "  y1=df1.iloc[:,-1]\n",
    "  x_train1,x_test1,y_train1,y_test1=train_test_split(x1,y1,test_size=0.20,random_state=77,stratify=y1)\n",
    "  d={}\n",
    "  for i in model.best_params_:\n",
    "    d[i]=[model.best_params_[i]]\n",
    "  model1=GridSearchCV(svc,d)\n",
    "  model1.fit(x_train1,y_train1)\n",
    "  y_pred1=model.predict(x_test1)\n",
    "  print(f\"The model is now {accuracy_score(y_pred1,y_test1)*100}% accurate\")\n",
    "  pickle.dump(model1,open('img_model.p','wb'))\n",
    "print(\"Thank you for your feedback\")\n"
   ]
  },
  {
   "cell_type": "markdown",
   "metadata": {
    "id": "fJ_t-zqIsTCA"
   },
   "source": [
    "This model learns from its mistake and rectifies them and does not repeat the same mistake again ;)"
   ]
  }
 ],
 "metadata": {
  "colab": {
   "authorship_tag": "ABX9TyNXoByyuzJc8pEa+Ia/zOiv",
   "include_colab_link": true,
   "mount_file_id": "1f0XtS7FMhgrj2FnqPssOI3tsovKoVeXM",
   "name": "Shanmukh-Classification.ipynb",
   "provenance": [],
   "toc_visible": true
  },
  "kernelspec": {
   "display_name": "Python 3 (ipykernel)",
   "language": "python",
   "name": "python3"
  },
  "language_info": {
   "codemirror_mode": {
    "name": "ipython",
    "version": 3
   },
   "file_extension": ".py",
   "mimetype": "text/x-python",
   "name": "python",
   "nbconvert_exporter": "python",
   "pygments_lexer": "ipython3",
   "version": "3.9.12"
  }
 },
 "nbformat": 4,
 "nbformat_minor": 1
}
